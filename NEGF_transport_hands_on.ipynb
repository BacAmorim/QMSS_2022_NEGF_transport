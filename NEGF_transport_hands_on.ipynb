{
 "cells": [
  {
   "cell_type": "markdown",
   "metadata": {},
   "source": [
    "# Non-Equilibrium Green's functions and Transport\n",
    "\n",
    "## Quantum Matter - Materials & Concepts Summer School 2022\n",
    "\n",
    "### Hands-on session\n",
    "\n",
    "In this session, we will\n",
    "\n",
    "1. Evaluate the self-energy due to a semi-infinite 1D tight-binding chain \n",
    "2. Evaluate transport through a single level system\n",
    "3. Explore the effects of electron-electron interactions at a mean-field level\n",
    "\n",
    "This notebook uses the [Julia](https://julialang.org) programming language.\n",
    "It is convenient to load the package `LinearAlgebra`, to solve linear algebra problems. \n",
    "For plotting we will use the package `PyPlot`."
   ]
  },
  {
   "cell_type": "code",
   "execution_count": 2,
   "metadata": {},
   "outputs": [
    {
     "name": "stderr",
     "output_type": "stream",
     "text": [
      "\u001b[32m\u001b[1m    Updating\u001b[22m\u001b[39m registry at `~/.julia/registries/General.toml`\n",
      "\u001b[32m\u001b[1m   Resolving\u001b[22m\u001b[39m package versions...\n",
      "\u001b[32m\u001b[1m  No Changes\u001b[22m\u001b[39m to `~/.julia/environments/v1.8/Project.toml`\n",
      "\u001b[32m\u001b[1m  No Changes\u001b[22m\u001b[39m to `~/.julia/environments/v1.8/Manifest.toml`\n",
      "\u001b[32m\u001b[1m   Resolving\u001b[22m\u001b[39m package versions...\n",
      "\u001b[32m\u001b[1m  No Changes\u001b[22m\u001b[39m to `~/.julia/environments/v1.8/Project.toml`\n",
      "\u001b[32m\u001b[1m  No Changes\u001b[22m\u001b[39m to `~/.julia/environments/v1.8/Manifest.toml`\n"
     ]
    }
   ],
   "source": [
    "using Pkg # this will load Julia's package manager\n",
    "Pkg.add(\"PyPlot\") # this will download and install the package PyPlot\n",
    "Pkg.add(\"QuadGK\") # pacage to do integrations\n",
    "#(it only needs to be run if the package is not installed)"
   ]
  },
  {
   "cell_type": "code",
   "execution_count": 3,
   "metadata": {},
   "outputs": [],
   "source": [
    "using LinearAlgebra, PyPlot, QuadGK"
   ]
  },
  {
   "cell_type": "markdown",
   "metadata": {},
   "source": [
    "## 1. Evaluation of self-energy of a semi-infinite tight-binding chain\n",
    "\n",
    "### 1.1. Bandstruture evaluation of a 1D tight-binding chain\n",
    "\n",
    "We will consider a infinite chain, described by the Hamiltonian\n",
    "\n",
    "$$\n",
    "H_{\\text{infinito}}=\\left[\\begin{array}{cccccc}\n",
    " & \\ddots\\\\\n",
    "\\ddots & \\ddots & \\boldsymbol{v}\\\\\n",
    " & \\boldsymbol{v}^{\\dagger} & \\boldsymbol{h} & \\boldsymbol{v}\\\\\n",
    " &  & \\boldsymbol{v}^{\\dagger} & \\boldsymbol{h} & \\boldsymbol{v}\\\\\n",
    " &  &  & \\boldsymbol{v}^{\\dagger} & \\ddots & \\ddots\\\\\n",
    " &  &  &  & \\ddots\n",
    "\\end{array}\\right].\n",
    "$$\n",
    "\n",
    "To evaluate the bandstructure, we must solve the eigenvalue problem:\n",
    "\n",
    "$$\n",
    "\\left(\\boldsymbol{h}+e^{ik}\\boldsymbol{v}+e^{-ik}\\boldsymbol{v}^{\\dagger}\\right)\\Psi_{k}=E_{k}\\Psi_{k}.\n",
    "$$"
   ]
  },
  {
   "cell_type": "markdown",
   "metadata": {},
   "source": [
    "### Problem 1.1.a\n",
    "Write a function that given $\\boldsymbol{h}$ and $\\boldsymbol{v}$ evaluates the bandstructure for a infinite 1D chain.\n",
    "\n",
    "For convinience we can store the Hamiltonian of the chain with the structure:"
   ]
  },
  {
   "cell_type": "markdown",
   "metadata": {},
   "source": [
    "## 1.2 Recursive evaluation of the self-energy\n",
    "\n",
    "Now let us consider a semi-infinite chain, with Hamiltonian:\n",
    "\n",
    "$$\n",
    "H_{\\text{semi}}=\\left[\\begin{array}{cccc}\n",
    "\\boldsymbol{h} & \\boldsymbol{v}\\\\\n",
    "\\boldsymbol{v}^{\\dagger} & \\boldsymbol{h} & \\boldsymbol{v}\\\\\n",
    " & \\boldsymbol{v}^\\dagger & \\ddots & \\ddots\\\\\n",
    " & \\ddots\n",
    "\\end{array}\\right]\n",
    "$$\n",
    "\n",
    "We want to evaluate the self-energy: $\\Sigma^R = \\boldsymbol{v}\\boldsymbol{g}_{1,1}^R \\boldsymbol{v}^\\dagger$,\n",
    "\n",
    "where the Green's function is solution of:\n",
    "\n",
    "$$\n",
    "\\left[\\begin{array}{cccc}\n",
    "E-\\boldsymbol{h} & -\\boldsymbol{v}\\\\\n",
    "-\\boldsymbol{v}^{\\dagger} & E-\\boldsymbol{h} & -\\boldsymbol{v}\\\\\n",
    " & -\\boldsymbol{v}^{\\dagger} & \\ddots & \\ddots\\\\\n",
    " &  & \\ddots\n",
    "\\end{array}\\right]\\left[\\begin{array}{cccc}\n",
    "\\boldsymbol{g}_{1,1}^{R} & \\boldsymbol{g}_{1,2}^{R} & \\boldsymbol{g}_{1,3}^{R} & \\cdots\\\\\n",
    "\\boldsymbol{g}_{2,1}^{R} & \\boldsymbol{g}_{2,2}^{R} & \\boldsymbol{g}_{2,3}^{R} & \\cdots\\\\\n",
    "\\boldsymbol{g}_{3,1}^{R} & \\boldsymbol{g}_{3,2}^{R} & \\boldsymbol{g}_{3,3}^{R} & \\cdots\\\\\n",
    "\\vdots & \\vdots & \\vdots & \\ddots\n",
    "\\end{array}\\right]=\\left[\\begin{array}{cccc}\n",
    "\\boldsymbol{1}\\\\\n",
    " & \\boldsymbol{1}\\\\\n",
    " &  & \\boldsymbol{1} & \\ddots\\\\\n",
    " &  & \\ddots & \\ddots\n",
    "\\end{array}\\right]\n",
    "$$\n",
    "\n",
    "The recursive method is based on the fact that a semi-infinite chain can be seen as one site coupled to another equal semi-infinite chain. Treating the hopping between the first site and the rest of the chain as a perturbation, we obtain the Lippmann-Schwinger equations: \n",
    "\n",
    "$$\n",
    "\\begin{align*}\n",
    "\\boldsymbol{g}^{R} & =\\tilde{\\boldsymbol{g}}^{R}+\\tilde{\\boldsymbol{g}}^{R}\\cdot\\boldsymbol{V}\\cdot\\boldsymbol{g}^{R}\\\\\n",
    "\\boldsymbol{g}^{R} & =\\tilde{\\boldsymbol{g}}^{R}+\\boldsymbol{g}^{R}\\cdot\\boldsymbol{V}\\cdot\\tilde{\\boldsymbol{g}}^{R}\n",
    "\\end{align*}\n",
    "$$\n",
    "\n",
    "where:\n",
    "$$\n",
    "\\tilde{\\boldsymbol{g}}^{R}=\\left[\\begin{array}{cccc}\n",
    "E-\\boldsymbol{h} & \\boldsymbol{0}\\\\\n",
    "\\boldsymbol{0} & E-\\boldsymbol{h} & -\\boldsymbol{v}\\\\\n",
    " & -\\boldsymbol{v}^{\\dagger} & \\ddots & \\ddots\\\\\n",
    " &  & \\ddots\n",
    "\\end{array}\\right]^{-1}\n",
    "$$\n",
    "\n",
    "is the Green's functions of the system where the first site is desconnected from the rest of the chain and\n",
    "$$\n",
    "\\boldsymbol{V}=\\left[\\begin{array}{cccc}\n",
    "\\boldsymbol{0} & \\boldsymbol{v}\\\\\n",
    "\\boldsymbol{v}^{\\dagger} & \\boldsymbol{0} & \\boldsymbol{0}\\\\\n",
    " & \\boldsymbol{0} & \\boldsymbol{0} & \\ddots\\\\\n",
    " &  & \\ddots & \\ddots\n",
    "\\end{array}\\right]\n",
    "$$\n",
    "\n",
    "connects the first site to the rest of the chain.\n",
    "\n",
    "From these we obtain the following relations:\n",
    "$$\n",
    "\\begin{align*}\n",
    "\\boldsymbol{g}_{1,1}^{R} & =\\tilde{\\boldsymbol{g}}_{1,1}^{R}+\\tilde{\\boldsymbol{g}}_{1,1}^{R}\\cdot\\boldsymbol{V}_{1,2}\\cdot\\boldsymbol{g}_{2,1}^{R}\\\\\n",
    "\\boldsymbol{g}_{2,1}^{R} & =\\tilde{\\boldsymbol{g}}_{2,2}^{R}\\cdot\\boldsymbol{V}_{2,1}\\cdot\\boldsymbol{g}_{1,1}^{R}\n",
    "\\end{align*}\n",
    "$$\n",
    "Which can be combined yielding:\n",
    "$$\n",
    "\\boldsymbol{g}_{1,1}^{R}=\\left[E-\\boldsymbol{h}-\\boldsymbol{v}\\cdot\\tilde{\\boldsymbol{g}}_{2,2}^{R}\\cdot\\boldsymbol{v}^{\\dagger}\\right]^{-1}\n",
    "$$\n",
    "\n",
    "It appears we have not made any progress, since we do not know $\\tilde{\\boldsymbol{g}}_{2,2}^{R}$. However, we notice that $\\tilde{\\boldsymbol{g}}_{2,2}^{R}$ is the on-site Green's function for the first site of a semi-infinite chain, which is preciselly what we wish to evaluate. Therefore, we have have that $\\tilde{\\boldsymbol{g}}_{2,2}^{R} = \\boldsymbol{g}_{1,1}^{R}$, such that we obtain the self-consistent relation\n",
    "\n",
    "$$\n",
    "\\boldsymbol{g}_{1,1}^{R}=\\left[E-\\boldsymbol{h}-\\boldsymbol{v}\\cdot\\boldsymbol{g}_{1,1}^{R}\\cdot\\boldsymbol{v}^{\\dagger}\\right]^{-1}\n",
    "$$\n",
    "\n",
    "By solving this equation, we can evalluate the self-energy."
   ]
  },
  {
   "cell_type": "markdown",
   "metadata": {},
   "source": [
    "### Problem 1.2.a\n",
    "For the case of a single-orbital nearest neighbour tight-binding chain rewrite the above equation as a quadratic equation for $g_{1,1}^R$ and solve it analytically. From the two possible solutions, select the retarded one as the solution in which for a complext energy argument, $E + i \\eta$ with $\\eta \\rightarrow 0^+$, the imaginary part of $g_{1,1}^R(E+i\\eta)$ is negative.\n",
    "\n",
    "You should obtain\n",
    "$$\n",
    "g^{R}(E)=\\frac{1}{t}\\left[\\left(\\frac{E-\\epsilon_{0}}{2t}\\right)-i\\sqrt{1-\\left(\\frac{E+i0^{+}-\\epsilon_{0}}{2t}\\right)^{2}}\\right]\n",
    "$$\n",
    "\n",
    "\n",
    "Study the Green's function for $\\left|E-\\epsilon_{0}\\right|\\lessgtr2t$ and make a plot of the real and imaginary parts."
   ]
  },
  {
   "cell_type": "markdown",
   "metadata": {},
   "source": [
    "### Problem 1.2.b \n",
    "Implement a code that solves the self-consistent equation iterativelly. Compare the numerical result with the analytic one. \n",
    "**Hint:** Add a small positive imaginary part to the energy,  $E \\rightarrow E + i \\eta$, in order to stabelise the iterative method."
   ]
  },
  {
   "cell_type": "markdown",
   "metadata": {},
   "source": [
    "## 2. Transport using the Caroli formula\n",
    "\n",
    "Let us consider a two-contact system described by the Hamiltonian\n",
    "$$\n",
    "H_{\\text{2-contact}}=\\left[\\begin{array}{ccc}\n",
    "\\boldsymbol{H}_{C} & \\boldsymbol{V}_{C,L} & \\boldsymbol{V}_{C,R}\\\\\n",
    "\\boldsymbol{V}_{L,C} & \\boldsymbol{H}_{L}\\\\\n",
    "\\boldsymbol{V}_{R,C} &  & \\boldsymbol{H}_{R}\n",
    "\\end{array}\\right]\n",
    "$$\n",
    "\n",
    "The Caroli formula expresses the transmitance in terms of Green's functions as A fórmula de Caroli escreve a transmitância como:\n",
    "\n",
    "$$\n",
    "\\mathcal{T}(E)=\\text{Tr}\\left[\\boldsymbol{G}^{A}(E)\\boldsymbol{\\Gamma}_{R}(E)\\boldsymbol{G}^{R}(E)\\boldsymbol{\\Gamma}_{L}(E)\\right]\n",
    "$$\n",
    "\n",
    "where\n",
    "\n",
    "$$\n",
    "\\boldsymbol{G}^{R}(E)=\\left[E-\\boldsymbol{H}_{C}-\\boldsymbol{\\Sigma}_{L}^{R}(E)-\\boldsymbol{\\Sigma}_{R}^{R}(E)\\right]^{-1},\n",
    "$$\n",
    "\n",
    "$\\boldsymbol{G}^{A}(E)=\\left[\\boldsymbol{G}^{R}(E)\\right]^{\\dagger}$ and\n",
    "\n",
    "$$\n",
    "\\boldsymbol{\\Gamma}_{\\ell}(E)=i\\left[\\boldsymbol{\\Sigma}_{\\ell}^{R}(E)-\\boldsymbol{\\Sigma}_{\\ell}^{A}(E)\\right]\n",
    "$$"
   ]
  },
  {
   "cell_type": "markdown",
   "metadata": {},
   "source": [
    "### Problem 2.a\n",
    "Implement the above equations in order to evaluate the transmitance. As an example, evaluate the transmitance through a single-level with energy $\\epsilon_0 = 0.5$ that is connected to the left and right contacts with the hoppings $t_{C,L} = t_{C, R} = -0.2$. Compare this with the analytic result."
   ]
  },
  {
   "cell_type": "markdown",
   "metadata": {
    "tags": []
   },
   "source": [
    "### Problem 2.b\n",
    "A sometimes useful approximation is the so called \"Wide Band Limit\" (WBL) approximation, which consists in ignoring the energy dependence of the leads self energy, and consider its imaginary/anti-hermitian part, i.e,\n",
    "\n",
    "$$\n",
    "\\Sigma^R_{\\ell}(\\omega) \\simeq -\\frac{i}{2}\\Gamma_{\\ell}(\\omega_0)\n",
    "$$\n",
    "\n",
    "where $\\omega_0$ is some reference energy, choosen to be close to the Fermi levels of the leads. \n",
    "\n",
    "Use the WBL for the single-level problem connect to two leads. Make the approximation\n",
    "\n",
    "$$\n",
    "\\Sigma^R_{\\ell}(\\omega) \\simeq -\\frac{i}{2}\\Gamma_{\\ell}(0)\n",
    "$$\n",
    "\n",
    "And compare the result with the previous one."
   ]
  },
  {
   "cell_type": "markdown",
   "metadata": {
    "tags": []
   },
   "source": [
    "# 3. Electron-electron interactions at the mean field level\n",
    "\n",
    "Consider that the Hamiltonian for the centra region is given by\n",
    "\n",
    "$$\n",
    "H_C = \\sum_{\\sigma = \\uparrow, \\downarrow}\\epsilon_0 d_{\\sigma}^\\dagger d_{\\sigma} + U n_{\\uparrow} n_{\\downarrow}\n",
    "$$\n",
    "\n",
    "where $n_\\sigma = d_{\\sigma}^\\dagger d_{\\sigma}$ is the electron number operator for spin $\\sigma$.\n",
    "\n",
    "At mean field, we obtain the Hamiltonian\n",
    "\n",
    "$$\n",
    "H_C^{MF} = \\sum_{\\sigma} \\epsilon_{\\sigma}^{MF} d_{\\sigma}^\\dagger d_{\\sigma}\n",
    "$$\n",
    "\n",
    "where $\\epsilon_{\\sigma}^{MF} = \\epsilon_0 + U \\left\\langle n_{\\bar{\\sigma}}\\right\\rangle$\n",
    "\n",
    "Use the mean field Hamiltonian to evaluate the retarded/advanced Green's functions, the Keldysh equation to express $G^{<}$ and the fact that $\\left\\langle n_{\\sigma}\\right\\rangle = \\int\\frac{d\\omega}{2\\pi} (-i)G^{<}_{\\sigma}(\\omega)$ to setup a set of self-consistent equations. Solve theses iterativelly. For simplicity, use the WBL approximation.\n",
    "\n",
    "Use the menad field values obtained from $\\left\\langle n_{\\sigma}\\right\\rangle$ to evaluate the spin resolved transmittance. Check that for large value of the interation you can have a spin spliting of the transmitance.\n",
    "\n",
    "As example, consider the following values:\n",
    "\n",
    "$\\epsilon_0 = 0$, $\\gamma_L = \\gamma_R = 0.005$, $T = 0.025$, $\\mu_L = 0$ and $\\mu_R = -0.1$"
   ]
  }
 ],
 "metadata": {
  "kernelspec": {
   "display_name": "Julia 1.8.0",
   "language": "julia",
   "name": "julia-1.8"
  },
  "language_info": {
   "file_extension": ".jl",
   "mimetype": "application/julia",
   "name": "julia",
   "version": "1.8.0"
  }
 },
 "nbformat": 4,
 "nbformat_minor": 4
}
